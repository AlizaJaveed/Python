{
 "cells": [
  {
   "cell_type": "code",
   "execution_count": 8,
   "id": "395830a9",
   "metadata": {},
   "outputs": [],
   "source": [
    "f = open(\"input.txt\",\"w\")\n",
    "data = f\n",
    "f = open(\"output.txt\" ,\"w\")\n",
    "data.close()"
   ]
  },
  {
   "cell_type": "code",
   "execution_count": 15,
   "id": "c18ecd56",
   "metadata": {},
   "outputs": [
    {
     "data": {
      "text/plain": [
       "''"
      ]
     },
     "execution_count": 15,
     "metadata": {},
     "output_type": "execute_result"
    }
   ],
   "source": [
    "data=open(\"input.txt\",\"r\")\n",
    "data.read()"
   ]
  },
  {
   "cell_type": "code",
   "execution_count": 6,
   "id": "5625359d",
   "metadata": {},
   "outputs": [
    {
     "name": "stdout",
     "output_type": "stream",
     "text": [
      "My name is Aliza Javed . Im from Pakistan . Im an Artificial Intelligence Student .\n"
     ]
    }
   ],
   "source": [
    "file = open(\"input.txt\",\"r\")\n",
    "print(file.read())"
   ]
  },
  {
   "cell_type": "code",
   "execution_count": 7,
   "id": "ff9f0fe0",
   "metadata": {},
   "outputs": [
    {
     "name": "stdout",
     "output_type": "stream",
     "text": [
      "My name is Aliza Javed . Im from Pakistan . Im an Artificial Intelligence Student .\n"
     ]
    }
   ],
   "source": [
    "file = open(\"input.txt\",\"r\")\n",
    "print(file.read())"
   ]
  },
  {
   "cell_type": "markdown",
   "id": "d2274755",
   "metadata": {},
   "source": [
    "# Question 01"
   ]
  },
  {
   "cell_type": "code",
   "execution_count": 17,
   "id": "8b0c315b",
   "metadata": {},
   "outputs": [
    {
     "name": "stdout",
     "output_type": "stream",
     "text": [
      "Number of words: 16\n",
      "my name is aliza javed . im from pakistan . im an artificial intelligence student .\n",
      "my name is parwaz javed . im from pakistan . im an artificial intelligence student .\n",
      "Number of words: 68\n",
      "Word Frequency:\n",
      " {'my': 1, 'name': 1, 'is': 1, 'aliza': 1, 'javed': 1, '.': 3, 'im': 2, 'from': 1, 'pakistan': 1, 'an': 1, 'artificial': 1, 'intelligence': 1, 'student': 1}\n",
      "\n",
      "Modified text has been written to 'output.txt'.\n"
     ]
    }
   ],
   "source": [
    "with open(\"input.txt\",'r') as file:\n",
    "    data = file.read()\n",
    "word_count = len(data.split())\n",
    "print(f\"Number of words: {word_count}\")\n",
    "line_count = len(data)\n",
    "char_count = 0\n",
    "lower_word  = data.lower()\n",
    "print(lower_word)\n",
    "replace_word = m.replace(\"aliza\",\"parwaz\")\n",
    "print(replace_word)\n",
    "for ch in data:\n",
    "    words = ch.split()\n",
    "    char_count += len(words)\n",
    "print(f\"Number of words: {char_count}\")\n",
    "freq = {}\n",
    "words = lower_word.split()\n",
    "for word in words:\n",
    "    if word in freq:\n",
    "        freq[word] += 1\n",
    "    else:\n",
    "        freq[word] = 1\n",
    "print(f\"Word Frequency:\\n {freq}\\n\")\n",
    "with open(\"output.txt\", 'w') as output_file:\n",
    "    output_file.write(replace_word)\n",
    "\n",
    "print(\"Modified text has been written to 'output.txt'.\")"
   ]
  },
  {
   "cell_type": "markdown",
   "id": "16d38a9d",
   "metadata": {},
   "source": [
    "# Question 02"
   ]
  },
  {
   "cell_type": "code",
   "execution_count": 32,
   "id": "b42da949",
   "metadata": {},
   "outputs": [
    {
     "name": "stdout",
     "output_type": "stream",
     "text": [
      "Number of recommended reviews: 6\n"
     ]
    }
   ],
   "source": [
    "with open(\"customer_reviews.txt\", \"r\") as file:\n",
    "    review = file.readlines()\n",
    "count = 0\n",
    "for re in review:\n",
    "    if \"I recommend\" in re or \"highly recommend\" in re:\n",
    "        count += 1\n",
    "print(f\"Number of recommended reviews: {count}\")\n"
   ]
  },
  {
   "cell_type": "markdown",
   "id": "20253c78",
   "metadata": {},
   "source": [
    "# Question 03"
   ]
  },
  {
   "cell_type": "code",
   "execution_count": 41,
   "id": "99c82071",
   "metadata": {},
   "outputs": [
    {
     "name": "stdout",
     "output_type": "stream",
     "text": [
      "Employee ID: 101\n",
      "Name: Muhammad Ali\n",
      "Department: Sales\n",
      "Salary: 50000 PKR\n",
      "\n",
      "Employee ID: 102\n",
      "Name: Ayesha Khan\n",
      "Department: Marketing\n",
      "Salary: 60000 PKR\n",
      "\n",
      "Employee ID: 103\n",
      "Name: Ahmed Riaz\n",
      "Department: IT\n",
      "Salary: 70000 PKR\n",
      "\n",
      "Employee ID: 104\n",
      "Name: Sadia Ahmed\n",
      "Department: HR\n",
      "Salary: 55000 PKR\n",
      "\n",
      "Employee ID: 105\n",
      "Name: Shahid Malik\n",
      "Department: Finance\n",
      "Salary: 75000 PKR\n",
      "\n",
      "Employee ID: 106\n",
      "Name: Hina Iqbal\n",
      "Department: Sales\n",
      "Salary: 52000 PKR\n",
      "\n",
      "Employee ID: 107\n",
      "Name: Bilal Hassan\n",
      "Department: IT\n",
      "Salary: 71000 PKR\n",
      "\n",
      "Employee ID: 108\n",
      "Name: Zara Fatima\n",
      "Department: Marketing\n",
      "Salary: 62000 PKR\n",
      "\n",
      "Employee ID: 109\n",
      "Name: Usman Khan\n",
      "Department: HR\n",
      "Salary: 56000 PKR\n",
      "\n",
      "Employee ID: 110\n",
      "Name: Sana Yasir\n",
      "Department: Finance\n",
      "Salary: 76000 PKR\n",
      "\n",
      "Employee ID: 111\n",
      "Name: Ali Shahzad\n",
      "Department: Sales\n",
      "Salary: 54000 PKR\n",
      "\n",
      "Employee ID: 112\n",
      "Name: Nida Ijaz\n",
      "Department: IT\n",
      "Salary: 72500 PKR\n",
      "\n",
      "Employee ID: 113\n",
      "Name: Imran Akhtar\n",
      "Department: Marketing\n",
      "Salary: 63000 PKR\n",
      "\n",
      "Employee ID: 114\n",
      "Name: Maria Khan\n",
      "Department: HR\n",
      "Salary: 57000 PKR\n",
      "\n",
      "Employee ID: 115\n",
      "Name: Saad Bashir\n",
      "Department: Finance\n",
      "Salary: 78000 PKR\n",
      "\n",
      "Employee ID: 116\n",
      "Name: Amina Raza\n",
      "Department: Sales\n",
      "Salary: 51000 PKR\n",
      "\n",
      "Employee ID: 117\n",
      "Name: Yasir Ahmed\n",
      "Department: IT\n",
      "Salary: 72000 PKR\n",
      "\n",
      "Employee ID: 118\n",
      "Name: Nida Ijaz\n",
      "Department: Marketing\n",
      "Salary: 64000 PKR\n",
      "\n",
      "Employee ID: 119\n",
      "Name: Imran Riaz\n",
      "Department: HR\n",
      "Salary: 59000 PKR\n",
      "\n",
      "Employee ID: 120\n",
      "Name: Saima Ali\n",
      "Department: Finance\n",
      "Salary: 77000 PKR\n",
      "\n"
     ]
    }
   ],
   "source": [
    "with open(\"employee_data.txt\", 'r') as file:\n",
    "    employee_data = file.read()\n",
    "\n",
    "record = employee_data.split('\\n\\n') \n",
    "content = []\n",
    "\n",
    "for re in record:\n",
    "    field = re.split('\\n')\n",
    "    emp_id = field[0].split(\": \")[1]\n",
    "    Name = field[1].split(\": \")[1]\n",
    "    Department = field[2].split(\": \")[1]\n",
    "    Salary = field[3].split(\": \")[1]\n",
    "\n",
    "    # Remove leading and trailing whitespace from each field\n",
    "    emp_id = emp_id.strip()\n",
    "    Name = Name.strip()\n",
    "    Department = Department.strip()\n",
    "    Salary = Salary.strip()\n",
    "\n",
    "    # Extract the first name and last name from the 'Name' field\n",
    "    first_name, last_name = Name.split()\n",
    "\n",
    "    contents = f\"Employee ID: {emp_id}\\nName: {Name}\\nDepartment: {Department}\\nSalary: {Salary}\\n\"\n",
    "    content.append(contents)\n",
    "for c in content:\n",
    "    print(c)\n"
   ]
  },
  {
   "cell_type": "code",
   "execution_count": 45,
   "id": "445f1bb1",
   "metadata": {},
   "outputs": [
    {
     "name": "stdout",
     "output_type": "stream",
     "text": [
      "Employee summaries saved in 'employee_summary.txt'.\n"
     ]
    }
   ],
   "source": [
    "with open(\"employee_summary.txt\", 'w') as file2:\n",
    "    for i in content:\n",
    "        file2.write(i + '\\n')\n",
    "\n",
    "print(\"Employee summaries saved in 'employee_summary.txt'.\")\n"
   ]
  },
  {
   "cell_type": "code",
   "execution_count": null,
   "id": "4c98a529",
   "metadata": {},
   "outputs": [],
   "source": []
  }
 ],
 "metadata": {
  "kernelspec": {
   "display_name": "Python 3 (ipykernel)",
   "language": "python",
   "name": "python3"
  },
  "language_info": {
   "codemirror_mode": {
    "name": "ipython",
    "version": 3
   },
   "file_extension": ".py",
   "mimetype": "text/x-python",
   "name": "python",
   "nbconvert_exporter": "python",
   "pygments_lexer": "ipython3",
   "version": "3.11.5"
  }
 },
 "nbformat": 4,
 "nbformat_minor": 5
}
